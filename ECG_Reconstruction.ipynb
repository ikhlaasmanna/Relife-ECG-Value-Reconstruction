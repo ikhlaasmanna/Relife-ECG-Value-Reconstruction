{
  "nbformat": 4,
  "nbformat_minor": 0,
  "metadata": {
    "colab": {
      "provenance": []
    },
    "kernelspec": {
      "name": "python3",
      "display_name": "Python 3"
    }
  },
  "cells": [
    {
      "cell_type": "markdown",
      "source": [
        "---\n",
        "\n",
        "**Load essential libraries**\n",
        "\n",
        "---"
      ],
      "metadata": {
        "id": "Lj9vTpE2AOSO"
      }
    },
    {
      "cell_type": "code",
      "metadata": {
        "id": "AtKh7DZWkCMa"
      },
      "source": [
        "import pandas as pd\n",
        "import numpy as np\n",
        "import sys\n",
        "from scipy import linalg\n",
        "import matplotlib.pyplot as plt\n",
        "import matplotlib.cm as cm\n",
        "plt.style.use('dark_background')\n",
        "%matplotlib inline\n",
        "plt.rcParams['figure.figsize'] = (4.0, 4.0) # set default size of plots\n",
        "\n",
        "from sklearn.preprocessing import StandardScaler, RobustScaler\n",
        "\n",
        "from scipy.sparse import random\n",
        "from scipy import stats"
      ],
      "execution_count": 1,
      "outputs": []
    },
    {
      "cell_type": "markdown",
      "source": [
        "---\n",
        "\n",
        "Mount Google drive folder if running in Colab\n",
        "\n",
        "---"
      ],
      "metadata": {
        "id": "UoH0fR1IAYvW"
      }
    },
    {
      "cell_type": "code",
      "source": [
        "## Mount Google drive folder if running in Colab\n",
        "if('google.colab' in sys.modules):\n",
        "    from google.colab import drive\n",
        "    drive.mount('/content/drive', force_remount = True)\n",
        "    # Change path below starting from /content/drive/MyDrive/Colab Notebooks/\n",
        "    # depending on how data is organized inside your Colab Notebooks folder in\n",
        "    # Google Drive\n",
        "    DIR = '/content/drive/MyDrive/Colab Notebooks/ALA'\n",
        "    DATA_DIR = DIR+'/Data/'\n",
        "else:\n",
        "    DATA_DIR = 'Data/'"
      ],
      "metadata": {
        "id": "Aayr6KbdIFJb",
        "colab": {
          "base_uri": "https://localhost:8080/"
        },
        "outputId": "0c20adbd-e568-43d9-87bf-965101f494b2"
      },
      "execution_count": 2,
      "outputs": [
        {
          "output_type": "stream",
          "name": "stdout",
          "text": [
            "Mounted at /content/drive\n"
          ]
        }
      ]
    },
    {
      "cell_type": "markdown",
      "source": [
        "---\n",
        "\n",
        "Load ECG data\n",
        "\n",
        "---"
      ],
      "metadata": {
        "id": "iFBJpICfAcGC"
      }
    },
    {
      "cell_type": "code",
      "source": [
        "# Load ECG data\n",
        "FILE = DATA_DIR + 'ecg_missing.txt'\n",
        "df_ecg = pd.read_csv(FILE, header = None, names = ['ecgvalues'])\n",
        "print(df_ecg.head())\n",
        "print(df_ecg['ecgvalues'].dtypes)\n",
        "df_ecg['ecgvalues'] = df_ecg['ecgvalues'].astype(float)\n",
        "print(df_ecg['ecgvalues'].dtypes)"
      ],
      "metadata": {
        "id": "Zzh_Xu1NMwKN",
        "colab": {
          "base_uri": "https://localhost:8080/"
        },
        "outputId": "63a3e6f1-3bad-4a35-a63e-722b616b8ced"
      },
      "execution_count": null,
      "outputs": [
        {
          "output_type": "stream",
          "name": "stdout",
          "text": [
            "          ecgvalues\n",
            "0    -1.4374358e-02\n",
            "1               NaN\n",
            "2    -1.2637355e-02\n",
            "3               NaN\n",
            "4    -1.0812403e-02\n",
            "object\n",
            "float64\n"
          ]
        }
      ]
    },
    {
      "cell_type": "markdown",
      "source": [
        "---\n",
        "\n",
        "Check if there are any missing values\n",
        "\n",
        "---"
      ],
      "metadata": {
        "id": "-XI9kd3OBeJi"
      }
    },
    {
      "cell_type": "code",
      "source": [
        "# Check if there are any missing values\n",
        "np.mean(df_ecg['ecgvalues'].isnull())*100"
      ],
      "metadata": {
        "id": "tGblKaJZBjTv",
        "colab": {
          "base_uri": "https://localhost:8080/"
        },
        "outputId": "c72f3a8e-be87-473b-87e0-dca23a4dbc19"
      },
      "execution_count": null,
      "outputs": [
        {
          "output_type": "execute_result",
          "data": {
            "text/plain": [
              "50.0"
            ]
          },
          "metadata": {},
          "execution_count": 6
        }
      ]
    },
    {
      "cell_type": "markdown",
      "source": [
        "---\n",
        "\n",
        "Component plot of the ecg signal\n",
        "\n",
        "---"
      ],
      "metadata": {
        "id": "3WdJ6dsLBNen"
      }
    },
    {
      "cell_type": "code",
      "source": [
        "# Component plot of the ecg signal\n",
        "fig, ax = plt.subplots(1, 1)\n",
        "component_index = range(0, len(df_ecg['ecgvalues']))\n",
        "ax.scatter(component_index, df_ecg['ecgvalues'], color = 'white', marker = 'o', s = 5)\n",
        "ax.set_xlabel('Sample Number')\n",
        "ax.set_ylabel('Normalized Voltage')\n",
        "ax.set_title('ECG Signal With Missing Values')"
      ],
      "metadata": {
        "id": "_y_ysAi3SdFv",
        "colab": {
          "base_uri": "https://localhost:8080/",
          "height": 427
        },
        "outputId": "2be0f64f-006b-4c62-93b6-e4036b47832d"
      },
      "execution_count": null,
      "outputs": [
        {
          "output_type": "execute_result",
          "data": {
            "text/plain": [
              "Text(0.5, 1.0, 'ECG Signal With Missing Values')"
            ]
          },
          "metadata": {},
          "execution_count": 7
        },
        {
          "output_type": "display_data",
          "data": {
            "text/plain": [
              "<Figure size 400x400 with 1 Axes>"
            ],
            "image/png": "[encoded data removed]"
          },
          "metadata": {}
        }
      ]
    },
    {
      "cell_type": "markdown",
      "source": [
        "---\n",
        "\n",
        "Extract the indices corresponding to the missing and known ECG values. For simplicity, assume that the full ECG signal is a 6-vector x with samples 3, 5, and 6 missing as shown below:\n",
        "\n",
        "$$\\begin{align*}\n",
        "\\mathbf{x} &= \\begin{bmatrix}x_1\\\\x_2\\\\{\\color{yellow}{x_3}}\\\\x_4\\\\{\\color{yellow}{x_5}}\\\\{\\color{yellow}{x_6}}\\end{bmatrix} = \\begin{bmatrix}x_1\\\\x_2\\\\{\\color{yellow}{v_1}}\\\\x_4\\\\{\\color{yellow}{v_2}}\\\\{\\color{yellow}{v_3}}\\end{bmatrix}.\n",
        "\\end{align*}$$\n",
        "\n",
        "---"
      ],
      "metadata": {
        "id": "G2J6wTh1B3PB"
      }
    },
    {
      "cell_type": "code",
      "source": [
        "# Extract the indices corresponding to the missing ECG values\n",
        "indices_unknown = df_ecg[df_ecg.isnull()['ecgvalues']].index\n",
        "print(indices_unknown)\n",
        "# Extract the indices corresponding to the known ECG values\n",
        "indices_known = df_ecg[~df_ecg.isnull()['ecgvalues']].index\n",
        "print(indices_known)\n",
        "indices_known=indices_known.values"
      ],
      "metadata": {
        "id": "JhhYcavxyXL4",
        "colab": {
          "base_uri": "https://localhost:8080/"
        },
        "outputId": "a574c00a-7d1c-4619-e88b-8d426c450c59"
      },
      "execution_count": null,
      "outputs": [
        {
          "output_type": "stream",
          "name": "stdout",
          "text": [
            "Index([  1,   3,   6,   7,   9,  14,  15,  18,  20,  21,  23,  24,  25,  26,\n",
            "        28,  29,  30,  32,  34,  35,  38,  41,  43,  47,  48,  49,  50,  52,\n",
            "        54,  56,  60,  66,  67,  68,  71,  74,  77,  84,  86,  87,  90,  91,\n",
            "        93,  94,  96,  97,  98, 101, 103, 104, 105, 110, 111, 114, 117, 119,\n",
            "       120, 121, 123, 128, 130, 132, 135, 137, 138, 141, 144, 145, 148, 150,\n",
            "       151, 152, 153, 154, 155, 157, 158, 161, 162, 163, 165, 166, 170, 171,\n",
            "       172, 173, 174, 178, 180, 181, 184, 185, 187, 190, 191, 192, 193, 195,\n",
            "       197, 198],\n",
            "      dtype='int64')\n",
            "Index([  0,   2,   4,   5,   8,  10,  11,  12,  13,  16,  17,  19,  22,  27,\n",
            "        31,  33,  36,  37,  39,  40,  42,  44,  45,  46,  51,  53,  55,  57,\n",
            "        58,  59,  61,  62,  63,  64,  65,  69,  70,  72,  73,  75,  76,  78,\n",
            "        79,  80,  81,  82,  83,  85,  88,  89,  92,  95,  99, 100, 102, 106,\n",
            "       107, 108, 109, 112, 113, 115, 116, 118, 122, 124, 125, 126, 127, 129,\n",
            "       131, 133, 134, 136, 139, 140, 142, 143, 146, 147, 149, 156, 159, 160,\n",
            "       164, 167, 168, 169, 175, 176, 177, 179, 182, 183, 186, 188, 189, 194,\n",
            "       196, 199],\n",
            "      dtype='int64')\n"
          ]
        }
      ]
    },
    {
      "cell_type": "markdown",
      "source": [
        "---\n",
        "\n",
        "Build a vector of known ecg_signal values. Using the simple ECG signal example, we get:\n",
        "\n",
        "$$\\mathbf{x}_\\text{known} = \\begin{bmatrix}x_1\\\\x_2\\\\x_4\\end{bmatrix}.$$\n",
        "\n",
        "---"
      ],
      "metadata": {
        "id": "5Mq3KOl_B-GE"
      }
    },
    {
      "cell_type": "code",
      "source": [
        "## Build a vector of known ecg_signal values\n",
        "x_known = df_ecg.loc[indices_known,'ecgvalues']\n",
        "print(x_known)"
      ],
      "metadata": {
        "id": "T8idTDuo2n8s",
        "colab": {
          "base_uri": "https://localhost:8080/"
        },
        "outputId": "8173cc9c-927e-4374-e97c-4342d100d5f8"
      },
      "execution_count": null,
      "outputs": [
        {
          "output_type": "stream",
          "name": "stdout",
          "text": [
            "0     -0.014374\n",
            "2     -0.012637\n",
            "4     -0.010812\n",
            "5     -0.009853\n",
            "8     -0.006548\n",
            "         ...   \n",
            "188    0.085758\n",
            "189    0.076497\n",
            "194    0.042017\n",
            "196    0.033077\n",
            "199    0.023651\n",
            "Name: ecgvalues, Length: 100, dtype: float64\n"
          ]
        }
      ]
    },
    {
      "cell_type": "markdown",
      "source": [
        "---\n",
        "\n",
        "Build the sampling matrices $\\mathbf{S}_1$ and $\\mathbf{S}_2$ such that\n",
        "\n",
        "$$\\begin{align*}\n",
        "\\underbrace{\\begin{bmatrix}?&?&?\\\\?&?&?\\\\?&?&?\\\\?&?&?\\\\?&?&?\\\\?&?&?\\end{bmatrix}}_{\\mathbf{S}_1}\\begin{bmatrix}x_1\\\\x_2\\\\x_4\\end{bmatrix}+\\underbrace{\\begin{bmatrix}?&?&?\\\\?&?&?\\\\?&?&?\\\\?&?&?\\\\?&?&?\\\\?&?&?\\end{bmatrix}}_{\\mathbf{S}_2}\\begin{bmatrix}{\\color{yellow}{v_1}}\\\\{\\color{yellow}{v_2}}\\\\{\\color{yellow}{v_3}}\\end{bmatrix}=\\begin{bmatrix}x_1\\\\x_2\\\\{\\color{yellow}{v_1}}\\\\x_4\\\\{\\color{yellow}{v_2}}\\\\{\\color{yellow}{v_3}}\\end{bmatrix}.\n",
        "\\end{align*}$$\n",
        "\n",
        "---"
      ],
      "metadata": {
        "id": "4AJJUPefCCAF"
      }
    },
    {
      "cell_type": "code",
      "source": [
        "I = np.eye(len(df_ecg))\n",
        "S1 = I[:,indices_known]\n",
        "S2 = I[:,indices_unknown]"
      ],
      "metadata": {
        "id": "O0zIvziq4LW3"
      },
      "execution_count": null,
      "outputs": []
    },
    {
      "cell_type": "markdown",
      "source": [
        "---\n",
        "\n",
        "Build the second-difference matrix $\\mathbf{D}$ which for the simple ECG example is\n",
        "\n",
        "$$\\mathbf{D} = \\begin{bmatrix}1&-2&1&0&0&0\\\\0&1&-2&1&0&0\\\\0&0&1&-2&1&0\\\\0&0&0&1&-2&1\\end{bmatrix}.$$\n",
        "\n",
        "---"
      ],
      "metadata": {
        "id": "-Yemt8heD6Mm"
      }
    },
    {
      "cell_type": "code",
      "source": [
        "## Build the second-difference matrix D\n",
        "n = len(df_ecg) # size of the signal\n",
        "a = 1*np.ones(n-1)\n",
        "b = -2*np.ones(n)\n",
        "D = np.diag(a,-1) + np.diag(b,0) + np.diag(a,1)\n",
        "D = D[1:-1, :]\n",
        "D.shape\n"
      ],
      "metadata": {
        "id": "peWE5XNK4f8V",
        "colab": {
          "base_uri": "https://localhost:8080/"
        },
        "outputId": "c5f40020-fbf7-4fd6-a4ea-369652c8e7ea"
      },
      "execution_count": null,
      "outputs": [
        {
          "output_type": "execute_result",
          "data": {
            "text/plain": [
              "(198, 200)"
            ]
          },
          "metadata": {},
          "execution_count": 17
        }
      ]
    },
    {
      "cell_type": "markdown",
      "source": [
        "---\n",
        "\n",
        "Reconstruct the ECG signal such that it is smooth by solving the following linear least squares problem:\n",
        "\n",
        "$$\\begin{align*}\\min_{\\color{yellow}{\\mathbf{v}}}\\left\\lVert\\mathbf{D}\\hat{\\mathbf{x}}\\right\\rVert_2^2 = \\min_{\\color{yellow}{\\mathbf{v}}}\\left\\lVert\\mathbf{D}\\left(\\mathbf{S}_1\\mathbf{x}_\\text{known} + \\mathbf{S}_2{\\color{yellow}{\\mathbf{v}}}\\right)\\right\\rVert_2^2 = \\min_\\mathbf{v}\\left\\lVert\\mathbf{D}\\mathbf{S}_1\\mathbf{x}_\\text{known} + \\mathbf{D}\\mathbf{S}_2{\\color{yellow}{\\mathbf{v}}}\\right\\rVert_2^2.\\end{align*}$$\n",
        "\n",
        "---"
      ],
      "metadata": {
        "id": "r1QX32AYEVuY"
      }
    },
    {
      "cell_type": "code",
      "source": [
        "## Reconstruct the ECG signal such that it is smooth\n",
        "A = np.dot(D, S2)\n",
        "b = -np.dot(D, np.dot(S1,x_known))\n",
        "v = linalg.lstsq(A, b)\n",
        "#print(v[0].flatten().shape)\n",
        "df_ecg.loc[indices_unknown, 'ecgvalues'] =  v[0].flatten()"
      ],
      "metadata": {
        "id": "KZNeLP0bc38j"
      },
      "execution_count": null,
      "outputs": []
    },
    {
      "cell_type": "code",
      "source": [
        "# Check if there are any missing values\n",
        "np.sum(df_ecg['ecgvalues'].isnull())"
      ],
      "metadata": {
        "id": "IAy2ORtJgUtk",
        "colab": {
          "base_uri": "https://localhost:8080/"
        },
        "outputId": "f1b817eb-e26b-408a-beb8-f83a7aa26bec"
      },
      "execution_count": null,
      "outputs": [
        {
          "output_type": "execute_result",
          "data": {
            "text/plain": [
              "0"
            ]
          },
          "metadata": {},
          "execution_count": 19
        }
      ]
    },
    {
      "cell_type": "code",
      "source": [
        "# Component plot of the reconstructed ecg signal\n",
        "fig, ax = plt.subplots(1, 1)\n",
        "component_index = range(0, len(df_ecg['ecgvalues']))\n",
        "ax.plot(component_index, df_ecg['ecgvalues'], color = 'white')"
      ],
      "metadata": {
        "id": "Eir2W_kWcxmp",
        "colab": {
          "base_uri": "https://localhost:8080/",
          "height": 385
        },
        "outputId": "aa7abfd0-cf93-4c29-a2ad-fc9c2c020e17"
      },
      "execution_count": null,
      "outputs": [
        {
          "output_type": "execute_result",
          "data": {
            "text/plain": [
              "[<matplotlib.lines.Line2D at 0x7ada9d25dd80>]"
            ]
          },
          "metadata": {},
          "execution_count": 21
        },
        {
          "output_type": "display_data",
          "data": {
            "text/plain": [
              "<Figure size 400x400 with 1 Axes>"
            ],
            "image/png": "[encoded data removed]"
          },
          "metadata": {}
        }
      ]
    }
  ]
}